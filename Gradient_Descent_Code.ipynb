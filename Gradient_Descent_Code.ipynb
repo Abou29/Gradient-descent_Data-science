{
 "cells": [
  {
   "cell_type": "markdown",
   "metadata": {},
   "source": [
    "# 1 - Code de la descente du gradient "
   ]
  },
  {
   "cell_type": "code",
   "execution_count": 2,
   "metadata": {},
   "outputs": [],
   "source": [
    "import numpy as np\n",
    "import pandas as pd\n",
    "import matplotlib.pyplot as plt\n",
    "from sklearn.model_selection import train_test_split\n",
    "\n",
    "class GradientDescent():\n",
    "    \"\"\"Gradient descent avec/sans régularisation.\n",
    "    \n",
    "    Parameters\n",
    "    ----------\n",
    "    alpha : float > 0\n",
    "        alpha est le taux d'apprentissage qui détermine la rapidité de la descente.\n",
    "    nombre_iterations : int > 0\n",
    "        nombre_iterations est le nombre maximum d'itérations.\n",
    "        \n",
    "    Notes\n",
    "    -----\n",
    "    Cette classe : \n",
    "        - calcule les paramètres optimaux (weights) d'un modèle linéaire en utilisant\n",
    "          une méthode de gradient de descente avec ou sans régularisation;\n",
    "        - réalise une prédiction = calcul la sortie 𝑦 à partir d’une entrée;\n",
    "        - calcule le score (coefficient de détermination entre une liste de sorties réelles \n",
    "          et une liste de sorties prédites par le modèle);\n",
    "        - retourne le MSE entre une liste de sorties réelles et une liste de sorties prédites par le modèle;\n",
    "        - affiche le graphe de convergence de la fonction coût;\n",
    "        - affiche le graphe de poids;\n",
    "        - donne la possibilité de normaliser ou de standardiser les données avant entrainement\n",
    "        - etc...\n",
    "    \"\"\"\n",
    "    def __init__(self, alpha, nombre_iterations):\n",
    "        \n",
    "        # affectation du taux d'apprentissage et du nombre d'itérations\n",
    "        self.alpha = alpha\n",
    "        self.nombre_iterations = nombre_iterations   \n",
    "        \n",
    "    \n",
    "    def GradDescClassic(self, X, Y):\n",
    "        \"\"\"Calcul par descente de gradient le vecteur de poids (Weights) qui minimisent\n",
    "           la fonction coût classique (sans régularisation)\n",
    "        Notes\n",
    "        -----\n",
    "        Weights : vecteur de poids, vecteur colonne de type 2D array\n",
    "        X : matrice d'observations, type 2D array\n",
    "        Y : sorties réelles, vecteur colonne de type 2D array\n",
    "        \"\"\"\n",
    "        # stock les valeurs de la fonction d'erreur\n",
    "        self.cacheLoss = [None]*self.nombre_iterations \n",
    "        \n",
    "        # Génère aléatoirement un vecteur de poids, pour l'initialisation\n",
    "        Weights = np.random.rand(X.shape[1])\n",
    "    \n",
    "        Weights = np.array(Weights)\n",
    "        Weights = Weights.reshape(-1, 1)\n",
    "        m = X.shape[0]\n",
    "        \n",
    "        # Calcul de la fonction d'erreur pour chaque itération\n",
    "        for i in range(self.nombre_iterations):\n",
    "            \n",
    "            # prédiction à partir de la matrice d'observations X et du vecteur de poids Weights\n",
    "            predictions = self.getPred(X, Weights) \n",
    "            \n",
    "            # Stockage de la fonction d'erreur\n",
    "            self.cacheLoss[i] = self.Loss(Y, predictions) \n",
    "        \n",
    "            # Mise à jour du poids correspondant à l'intercept\n",
    "            Weights[0] = Weights[0] - (1/m)*self.alpha*(np.matmul(X[:,0].transpose(), predictions-Y))\n",
    "            \n",
    "            # Mise à jour du poids de chaque feature\n",
    "            for j in range(1, len(Weights)):\n",
    "                \n",
    "                Weights[j] = Weights[j] - (1/m)*self.alpha*(np.matmul(X[:,j].transpose(), predictions-Y))\n",
    "                \n",
    "        return (Weights)\n",
    "\n",
    "    def GradDescRidge(self, X, Y, lmb):\n",
    "        \"\"\"Calcul par descente de gradient le vecteur de poids (Weights) qui minimisent\n",
    "           la fonction coût avec régularisation L2 (Régression Ridge)\n",
    "        Notes\n",
    "        -----\n",
    "        Weights : vecteur de poids, vecteur colonne de type 2D array\n",
    "        X : matrice d'observations, type 2D array\n",
    "        Y : sorties réelles, vecteur colonne de type 2D array\n",
    "        lmb : pénalité\n",
    "        \"\"\"\n",
    "        # stock les valeurs de la fonction d'erreur\n",
    "        self.cacheLoss = [None]*self.nombre_iterations\n",
    "        \n",
    "        # Génère aléatoirement un vecteur de poids, pour l'initialisation\n",
    "        Weights = np.random.rand(X.shape[1])\n",
    "    \n",
    "        Weights = np.array(Weights)\n",
    "        Weights = Weights.reshape(-1, 1)\n",
    "        m = X.shape[0]\n",
    "        \n",
    "        # Calcul de la fonction d'erreur pour chaque itération\n",
    "        for i in range(self.nombre_iterations):\n",
    "            \n",
    "            # prédiction à partir de la matrice d'observations X et du vecteur de poids Weights\n",
    "            predictions = self.getPred(X, Weights)\n",
    "            \n",
    "            # Stockage de la fonction d'erreur\n",
    "            self.cacheLoss[i] = self.Loss(Y, predictions)\n",
    "            \n",
    "            # Mise à jour du poids correspondant à l'intercept\n",
    "            Weights[0] = Weights[0] - (1/m)*self.alpha*(np.matmul(X[:,0].transpose(), predictions-Y))\n",
    "            \n",
    "            # Mise à jour du poids de chaque feature\n",
    "            for j in range(1, len(Weights)):\n",
    "                \n",
    "                Weights[j] = Weights[j] - (1/m)*self.alpha*(np.matmul(X[:,j].transpose(), predictions-Y)\n",
    "                                                            + sum(np.dot(Weights[j],lmb)))\n",
    "        return (Weights)\n",
    "\n",
    "    def GradDescLasso(self, X, Y, lmb):\n",
    "        \"\"\"Calcul par descente de gradient le vecteur de poids (Weights) qui minimisent\n",
    "           la fonction coût avec régularisation L1 (Régression Lasso)\n",
    "        Notes\n",
    "        -----\n",
    "        Weights : vecteur de poids, vecteur colonne de type 2D array\n",
    "        X : matrice d'observations, type 2D array\n",
    "        Y : sorties réelles, vecteur colonne de type 2D array\n",
    "        lmb : pénalité\n",
    "        \"\"\"\n",
    "        # stock les valeurs de la fonction d'erreur\n",
    "        self.cacheLoss = [None]*self.nombre_iterations\n",
    "        \n",
    "        # Génère aléatoirement un vecteur de poids, pour l'initialisation\n",
    "        Weights = np.random.rand(X.shape[1])\n",
    "    \n",
    "        Weights = np.array(Weights)\n",
    "        Weights = Weights.reshape(-1, 1)\n",
    "        m = X.shape[0]\n",
    "        \n",
    "        # Calcul de la fonction d'erreur pour chaque itération\n",
    "        for i in range(self.nombre_iterations):\n",
    "            \n",
    "            # prédiction à partir de la matrice d'observations X et du vecteur de poids Weights\n",
    "            predictions = self.getPred(X, Weights)\n",
    "            \n",
    "            # Stockage de la fonction d'erreur\n",
    "            self.cacheLoss[i] = self.Loss(Y, predictions)\n",
    "            \n",
    "            # Mise à jour du poids correspondant à l'intercept\n",
    "            Weights[0] = Weights[0] - (1/m)*self.alpha*(np.matmul(X[:,0].transpose(), predictions-Y))\n",
    "            \n",
    "            # Mise à jour du poids de chaque feature\n",
    "            for j in range(1, len(Weights)):\n",
    "                \n",
    "                Weights[j] = Weights[j] - (1/m)*self.alpha*(np.matmul(X[:,j].transpose(), predictions-Y) \n",
    "                                                            + 0.5*(np.dot(np.copysign([1], Weights[j]), lmb)))\n",
    "        return (Weights)\n",
    "\n",
    "    def GradDescElastic(self, X, Y, lmb1, lmb2):\n",
    "        \"\"\"Calcul par descente de gradient le vecteur de poids (Weights) qui minimisent\n",
    "           la fonction coût dans le cas de la Régression Elastic\n",
    "        Notes\n",
    "        -----\n",
    "        Weights : vecteur de poids, vecteur colonne de type 2D array\n",
    "        X : matrice d'observations, type 2D array\n",
    "        Y : sorties réelles, vecteur colonne de type 2D array\n",
    "        lmb1, lmb2 : les pénalités\n",
    "        \"\"\"  \n",
    "        # stock les valeurs de la fonction d'erreur\n",
    "        self.cacheLoss = [None]*self.nombre_iterations\n",
    "        \n",
    "        # Génère aléatoirement un vecteur de poids, pour l'initialisation\n",
    "        Weights = np.random.rand(X.shape[1])\n",
    "    \n",
    "        Weights = np.array(Weights)\n",
    "        Weights = Weights.reshape(-1, 1)\n",
    "        m = X.shape[0]\n",
    "        \n",
    "        # Calcul de la fonction d'erreur pour chaque itération\n",
    "        for i in range(self.nombre_iterations):\n",
    "            \n",
    "            # prédiction à partir de la matrice d'observations X et du vecteur de poids Weights\n",
    "            predictions = self.getPred(X, Weights)\n",
    "            \n",
    "            # Stockage de la fonction d'erreur\n",
    "            self.cacheLoss[i] = self.Loss(Y, predictions)\n",
    "            \n",
    "            # Mise à jour du poids correspondant à l'intercept\n",
    "            Weights[0] = Weights[0] - (1/m)*self.alpha*(np.matmul(X[:,0].transpose(), predictions-Y))\n",
    "            \n",
    "            # Mise à jour du poids de chaque feature\n",
    "            for j in range(1, len(Weights)):\n",
    "                \n",
    "                Weights[j] = Weights[j] - (1/m)*self.alpha*(np.matmul(X[:,j].transpose(), predictions-Y) \n",
    "                                                            + 0.5*(np.dot(np.copysign([1], Weights[j]), lmb1)) \n",
    "                                                           + (np.dot(Weights[j], lmb2)))\n",
    "        return (Weights)\n",
    "    \n",
    "    def getRidgeLambda(self, X, Y):\n",
    "        \"\"\"Recherche de pénalité optimale dans le cas de la régression ridge.\n",
    "           Cette fonction entraine un set de train sur une séquence de valeurs lmb(pénalité) et pour chaque\n",
    "           lmb, elle calcule le MSE correspondant sur le set de validation. Elle retourne la valeur lmb qui a le\n",
    "           plus faible MSE.\n",
    "        Notes\n",
    "        -----\n",
    "        X : matrice d'observations, type 2D array \n",
    "        Y : sorties réelles, vecteur colonne de type 2D array\n",
    "        \"\"\"\n",
    "        # Données d'entrainement et données de validation\n",
    "        X_train, X_Validate, Y_train, Y_Validate = sklearn.model_selection.train_test_split(X, Y, \n",
    "                                                                                            test_size=0.33, random_state=42)\n",
    "        # affectation d'un MSE arbitraire\n",
    "        bestMSE = 10e100\n",
    "        \n",
    "        # Séquence de valeurs lmb (pénalité)\n",
    "        self.lambda_List = [l*0.05 for l in range(0,300)]\n",
    "        \n",
    "        # Pour recupérer les poids des features après chaque entrainement\n",
    "        self.W_List = [] \n",
    "        \n",
    "        # Cross Validation pour obtenir la pénalité optimale\n",
    "        for l in self.lambda_List:\n",
    "            # vecteurs de poids optimaux après entrainement avec régularisation Ridge\n",
    "            self.W = self.GradDescRidge(X_train, Y_train, lmb = l)\n",
    "            \n",
    "            # Cette instruction if, recupère le meilleur MSE obtenu sur le set de test et la pénalité (lmb) correspondant\n",
    "            if self.MSE(X_Validate, Y_Validate, self.W) < bestMSE:\n",
    "                \n",
    "                # meilleur MSE obtenu sur le set de test\n",
    "                bestMSE = self.MSE(X_Validate, Y_Validate, self.W)\n",
    "                \n",
    "                # pénalité qui correspond au meilleur MSE obtenu sur le set de test\n",
    "                ridgeLambda = l\n",
    "                \n",
    "            # Récupère les poids des features après chaque entrainement\n",
    "            self.W_List.append([self.W[j][0] for j in range(1, len(self.W))])\n",
    "                \n",
    "        return ridgeLambda\n",
    "\n",
    "    def getLassoLambda(self, X, Y):\n",
    "        \"\"\"Recherche de pénalité optimale dans le cas de la régression lasso.\n",
    "           Cette fonction entraine un set de train sur une séquence de valeurs lmb(pénalité) et pour chaque\n",
    "           lmb, elle calcule le MSE correspondant sur le set de validation. Elle retourne la valeur lmb qui a le\n",
    "           plus faible MSE.\n",
    "        Notes\n",
    "        -----\n",
    "        X : matrice d'observations, type 2D array \n",
    "        Y : sorties réelles, vecteur colonne de type 2D array\n",
    "        \"\"\"\n",
    "        # Données d'entrainement et données de validation\n",
    "        X_train, X_Validate, Y_train, Y_Validate = sklearn.model_selection.train_test_split(X, Y, \n",
    "                                                                                            test_size=0.33, random_state=42)\n",
    "        \n",
    "        # affectation d'un MSE arbitraire\n",
    "        bestMSE = 10e100\n",
    "        \n",
    "        # Séquence de valeurs lmb (pénalité)\n",
    "        self.lambda_List = [l*0.1 for l in range(1,200)]\n",
    "        \n",
    "        # Pour recupérer les poids des features après chaque entrainement\n",
    "        self.W_List = [] \n",
    "        \n",
    "        # Cross Validation pour obtenir la pénalité optimale\n",
    "        for l in self.lambda_List:\n",
    "            # vecteurs de poids optimaux après entrainement avec régularisation lasso\n",
    "            self.W = self.GradDescLasso(X_train, Y_train, lmb = l)\n",
    "            \n",
    "            # Cette instruction if, recupère le meilleur MSE obtenu sur le set de test et la pénalité (lmb) correspondant\n",
    "            if self.MSE(X_Validate, Y_Validate, self.W) < bestMSE:\n",
    "                \n",
    "                # meilleur MSE obtenu sur le set de test\n",
    "                bestMSE = self.MSE(X_Validate, Y_Validate, self.W)\n",
    "                \n",
    "                # pénalité qui correspond au meilleur MSE obtenu sur le set de test\n",
    "                LassoLambda = l\n",
    "                \n",
    "            # Récupère les poids des features après chaque entrainement\n",
    "            self.W_List.append([self.W[j][0] for j in range(1, len(self.W))])\n",
    "                \n",
    "        return LassoLambda\n",
    "\n",
    "\n",
    "    def getLambdasElastic(self, X, Y):\n",
    "        \"\"\"Recherche de pénalités optimaux (lmb1, lmb2) dans le cas de la régression Elastic.\n",
    "           Cette fonction entraine un set de train sur deux séquences de valeurs de pénalités(lmb1, lmb2) et pour chaque\n",
    "           combinaison (lmb1, lmb2), elle calcule le MSE correspondant sur le set de validation. \n",
    "           Elle retourne la combinaison(lmb1, lmb2) qui a leplus faible MSE.\n",
    "        Notes\n",
    "        -----\n",
    "        X : matrice d'observations, type 2D array \n",
    "        Y : sorties réelles, vecteur colonne de type 2D array\n",
    "        \"\"\"\n",
    "        # Données d'entrainement et données de validation\n",
    "        X_train, X_Validate, Y_train, Y_Validate = sklearn.model_selection.train_test_split(X, Y, \n",
    "                                                                                            test_size=0.33, random_state=42)\n",
    "        # affectation d'un MSE arbitraire\n",
    "        bestMSE = 10e100\n",
    "        \n",
    "        # Séquence de valeurs lmb1, lm2 (pénalités)\n",
    "        lambda1_List = [l*0.1 for l in range(1,200)]\n",
    "        lambda2_List = [l*0.1 for l in range(1,200)]\n",
    "        \n",
    "        # Cross Validation pour obtenir les pénalités otimaux\n",
    "        for l1 in lambda1_List:\n",
    "            for l2 in lambda2_List:\n",
    "                # vecteurs de poids optimaux après entrainement avec régularisation elastic\n",
    "                self.W = self.GradDescElastic(X_train, Y_train, lmb1=l1, lmb2=l2)\n",
    "                \n",
    "                # Cette instruction if, recupère le meilleur MSE obtenu sur le set de test et les pénalités correspondants\n",
    "                if self.MSE(X_Validate, Y_Validate, self.W) < bestMSE:\n",
    "                    \n",
    "                    # meilleur MSE obtenu sur le set de test\n",
    "                    bestMSE = self.MSE(X_Validate, Y_Validate, self.W)\n",
    "                    \n",
    "                    # pénalités qui correspondent au meilleur MSE obtenu sur le set de test\n",
    "                    ElasticLambda1 = l1\n",
    "                    ElasticLambda2 = l2\n",
    "                    \n",
    "        return (ElasticLambda1, ElasticLambda2)\n",
    "    \n",
    "    def graph_convergence_cost_function(self): \n",
    "        \"\"\"Trace le graphe de convergence de la fonction coût\n",
    "        \"\"\"\n",
    "        axes = plt.axes()\n",
    "        axes.grid()\n",
    "        plt.xlabel('Nombre d\\'iterations')\n",
    "        plt.ylabel('Cost')\n",
    "        plt.title('Graphe de convergence de la fonction coût')\n",
    "        plt.scatter([i for i in range(self.nombre_iterations)], self.cacheLoss, s=20)\n",
    "        plt.show()\n",
    "        \n",
    "    def graph_de_poids_features(self): \n",
    "        \"\"\"Trace le graphe de poids \n",
    "        \"\"\"\n",
    "        plt.xlabel('lambda (pénalité)') \n",
    "        plt.ylabel('weights')\n",
    "        plt.title('Graphe de poids des features')\n",
    "        graph = plt.plot(self.lambda_List, self.W_List)  \n",
    "        plt.legend(iter(graph), [i for i in range(1,self.W)])\n",
    "        plt.show()\n",
    "    \n",
    "    def StandardScaler(self, X):\n",
    "        \"\"\"Standardise éventuellement la matrice d'observations X avant entrainement\n",
    "        Notes\n",
    "        -----\n",
    "        X : matrice de type 2D array\n",
    "        \"\"\"\n",
    "        return np.array((X - X.mean(axis=0)) / (X.std(axis=0)))\n",
    "    \n",
    "    def getPred(self, X, W):\n",
    "        \"\"\"Réalise une prédiction à partir d'une matrice d'observations X et d'un vecteur de poids W\n",
    "        Notes\n",
    "        -----\n",
    "        X : matrice de type 2D array, W: vecteur colonne de type 2D array\n",
    "        \"\"\"\n",
    "        return (np.matmul(X, W))\n",
    "    \n",
    "    def Loss(self, Y, Ypred):\n",
    "        \"\"\"Calcul la fonction d'erreur entre un vecteur de sorties réelles Y et un vecteur\n",
    "           et de sorties prédites Ypred par le modèle\n",
    "        Notes\n",
    "        ---\n",
    "        Y et Ypred sont des vecteurs colonnes de type 2D array\n",
    "        \"\"\"\n",
    "        l=(Y-Ypred)**2\n",
    "        return (l.sum())\n",
    "    \n",
    "    def R2(self, Y, Ypred):\n",
    "        \"\"\"Calcule le coefficient de détermination entre un vecteur de sorties réelles Y et un vecteur\n",
    "           de sorties prédites Ypred par le modèle\n",
    "        Notes\n",
    "        -----\n",
    "        Y et Ypred sont des vecteurs colonnes de type 2D array\n",
    "        \"\"\"\n",
    "        return 1 - ((Y - Ypred)**2).sum() / ((Y - Y.mean())**2).sum()\n",
    "\n",
    "    \n",
    "    def MSE(self, X, Y, W):\n",
    "        \"\"\"MSE: mean square error (erreur quadratique moyenne)\n",
    "        Notes\n",
    "        -----\n",
    "        X : matrice de type 2D array, Y : vecteurs colonnes de type 2D array, W: vecteur colonne de type 2D array\n",
    "        \"\"\"\n",
    "        return((1/X.shape[0])*self.Loss(Y, self.getPred(X, W)))"
   ]
  },
  {
   "cell_type": "markdown",
   "metadata": {},
   "source": [
    "# 2 - Démonstration du code sur notre jeu de données"
   ]
  },
  {
   "cell_type": "markdown",
   "metadata": {},
   "source": [
    "Cet ensemble de données se compose de 97 observations provenant d'une étude scientifique réalisée en 1989. Les données comprennent 8 prédicteurs et le résultat d'intérêt est lpsa (log de l'antigène spécifique de la prostate)."
   ]
  },
  {
   "cell_type": "markdown",
   "metadata": {},
   "source": [
    "Les prédicteurs incluent log cavol, log weight, age, lbph, sci , lcp , gleason, pgg45. "
   ]
  },
  {
   "cell_type": "code",
   "execution_count": 3,
   "metadata": {},
   "outputs": [
    {
     "data": {
      "text/html": [
       "<div>\n",
       "<style scoped>\n",
       "    .dataframe tbody tr th:only-of-type {\n",
       "        vertical-align: middle;\n",
       "    }\n",
       "\n",
       "    .dataframe tbody tr th {\n",
       "        vertical-align: top;\n",
       "    }\n",
       "\n",
       "    .dataframe thead th {\n",
       "        text-align: right;\n",
       "    }\n",
       "</style>\n",
       "<table border=\"1\" class=\"dataframe\">\n",
       "  <thead>\n",
       "    <tr style=\"text-align: right;\">\n",
       "      <th></th>\n",
       "      <th>id</th>\n",
       "      <th>lcavol</th>\n",
       "      <th>lweight</th>\n",
       "      <th>age</th>\n",
       "      <th>lbph</th>\n",
       "      <th>svi</th>\n",
       "      <th>Icp</th>\n",
       "      <th>gleason</th>\n",
       "      <th>pgg45</th>\n",
       "      <th>lpsa</th>\n",
       "      <th>train</th>\n",
       "    </tr>\n",
       "  </thead>\n",
       "  <tbody>\n",
       "    <tr>\n",
       "      <th>0</th>\n",
       "      <td>1</td>\n",
       "      <td>-0.579818</td>\n",
       "      <td>2.769459</td>\n",
       "      <td>50</td>\n",
       "      <td>-1.386294</td>\n",
       "      <td>0</td>\n",
       "      <td>-1.386294</td>\n",
       "      <td>6</td>\n",
       "      <td>0</td>\n",
       "      <td>-0.430783</td>\n",
       "      <td>T</td>\n",
       "    </tr>\n",
       "    <tr>\n",
       "      <th>1</th>\n",
       "      <td>2</td>\n",
       "      <td>-0.994252</td>\n",
       "      <td>3.319626</td>\n",
       "      <td>58</td>\n",
       "      <td>-1.386294</td>\n",
       "      <td>0</td>\n",
       "      <td>-1.386294</td>\n",
       "      <td>6</td>\n",
       "      <td>0</td>\n",
       "      <td>-0.162519</td>\n",
       "      <td>T</td>\n",
       "    </tr>\n",
       "    <tr>\n",
       "      <th>2</th>\n",
       "      <td>3</td>\n",
       "      <td>-0.510826</td>\n",
       "      <td>2.691243</td>\n",
       "      <td>74</td>\n",
       "      <td>-1.386294</td>\n",
       "      <td>0</td>\n",
       "      <td>-1.386294</td>\n",
       "      <td>7</td>\n",
       "      <td>20</td>\n",
       "      <td>-0.162519</td>\n",
       "      <td>T</td>\n",
       "    </tr>\n",
       "    <tr>\n",
       "      <th>3</th>\n",
       "      <td>4</td>\n",
       "      <td>-1.203973</td>\n",
       "      <td>3.282789</td>\n",
       "      <td>58</td>\n",
       "      <td>-1.386294</td>\n",
       "      <td>0</td>\n",
       "      <td>-1.386294</td>\n",
       "      <td>6</td>\n",
       "      <td>0</td>\n",
       "      <td>-0.162519</td>\n",
       "      <td>T</td>\n",
       "    </tr>\n",
       "    <tr>\n",
       "      <th>4</th>\n",
       "      <td>5</td>\n",
       "      <td>0.751416</td>\n",
       "      <td>3.432373</td>\n",
       "      <td>62</td>\n",
       "      <td>-1.386294</td>\n",
       "      <td>0</td>\n",
       "      <td>-1.386294</td>\n",
       "      <td>6</td>\n",
       "      <td>0</td>\n",
       "      <td>0.371564</td>\n",
       "      <td>T</td>\n",
       "    </tr>\n",
       "    <tr>\n",
       "      <th>...</th>\n",
       "      <td>...</td>\n",
       "      <td>...</td>\n",
       "      <td>...</td>\n",
       "      <td>...</td>\n",
       "      <td>...</td>\n",
       "      <td>...</td>\n",
       "      <td>...</td>\n",
       "      <td>...</td>\n",
       "      <td>...</td>\n",
       "      <td>...</td>\n",
       "      <td>...</td>\n",
       "    </tr>\n",
       "    <tr>\n",
       "      <th>92</th>\n",
       "      <td>93</td>\n",
       "      <td>2.830268</td>\n",
       "      <td>3.876396</td>\n",
       "      <td>68</td>\n",
       "      <td>-1.386294</td>\n",
       "      <td>1</td>\n",
       "      <td>1.321756</td>\n",
       "      <td>7</td>\n",
       "      <td>60</td>\n",
       "      <td>4.385147</td>\n",
       "      <td>T</td>\n",
       "    </tr>\n",
       "    <tr>\n",
       "      <th>93</th>\n",
       "      <td>94</td>\n",
       "      <td>3.821004</td>\n",
       "      <td>3.896909</td>\n",
       "      <td>44</td>\n",
       "      <td>-1.386294</td>\n",
       "      <td>1</td>\n",
       "      <td>2.169054</td>\n",
       "      <td>7</td>\n",
       "      <td>40</td>\n",
       "      <td>4.684443</td>\n",
       "      <td>T</td>\n",
       "    </tr>\n",
       "    <tr>\n",
       "      <th>94</th>\n",
       "      <td>95</td>\n",
       "      <td>2.907447</td>\n",
       "      <td>3.396185</td>\n",
       "      <td>52</td>\n",
       "      <td>-1.386294</td>\n",
       "      <td>1</td>\n",
       "      <td>2.463853</td>\n",
       "      <td>7</td>\n",
       "      <td>10</td>\n",
       "      <td>5.143124</td>\n",
       "      <td>F</td>\n",
       "    </tr>\n",
       "    <tr>\n",
       "      <th>95</th>\n",
       "      <td>96</td>\n",
       "      <td>2.882564</td>\n",
       "      <td>3.773910</td>\n",
       "      <td>68</td>\n",
       "      <td>1.558145</td>\n",
       "      <td>1</td>\n",
       "      <td>1.558145</td>\n",
       "      <td>7</td>\n",
       "      <td>80</td>\n",
       "      <td>5.477509</td>\n",
       "      <td>T</td>\n",
       "    </tr>\n",
       "    <tr>\n",
       "      <th>96</th>\n",
       "      <td>97</td>\n",
       "      <td>3.471966</td>\n",
       "      <td>3.974998</td>\n",
       "      <td>68</td>\n",
       "      <td>0.438255</td>\n",
       "      <td>1</td>\n",
       "      <td>2.904165</td>\n",
       "      <td>7</td>\n",
       "      <td>20</td>\n",
       "      <td>5.582932</td>\n",
       "      <td>F</td>\n",
       "    </tr>\n",
       "  </tbody>\n",
       "</table>\n",
       "<p>97 rows × 11 columns</p>\n",
       "</div>"
      ],
      "text/plain": [
       "    id    lcavol   lweight  age      lbph  svi       Icp  gleason  pgg45  \\\n",
       "0    1 -0.579818  2.769459   50 -1.386294    0 -1.386294        6      0   \n",
       "1    2 -0.994252  3.319626   58 -1.386294    0 -1.386294        6      0   \n",
       "2    3 -0.510826  2.691243   74 -1.386294    0 -1.386294        7     20   \n",
       "3    4 -1.203973  3.282789   58 -1.386294    0 -1.386294        6      0   \n",
       "4    5  0.751416  3.432373   62 -1.386294    0 -1.386294        6      0   \n",
       "..  ..       ...       ...  ...       ...  ...       ...      ...    ...   \n",
       "92  93  2.830268  3.876396   68 -1.386294    1  1.321756        7     60   \n",
       "93  94  3.821004  3.896909   44 -1.386294    1  2.169054        7     40   \n",
       "94  95  2.907447  3.396185   52 -1.386294    1  2.463853        7     10   \n",
       "95  96  2.882564  3.773910   68  1.558145    1  1.558145        7     80   \n",
       "96  97  3.471966  3.974998   68  0.438255    1  2.904165        7     20   \n",
       "\n",
       "        lpsa train  \n",
       "0  -0.430783     T  \n",
       "1  -0.162519     T  \n",
       "2  -0.162519     T  \n",
       "3  -0.162519     T  \n",
       "4   0.371564     T  \n",
       "..       ...   ...  \n",
       "92  4.385147     T  \n",
       "93  4.684443     T  \n",
       "94  5.143124     F  \n",
       "95  5.477509     T  \n",
       "96  5.582932     F  \n",
       "\n",
       "[97 rows x 11 columns]"
      ]
     },
     "execution_count": 3,
     "metadata": {},
     "output_type": "execute_result"
    }
   ],
   "source": [
    "cancerData = pd.read_excel('prostate.xlsx')\n",
    "cancerData"
   ]
  },
  {
   "cell_type": "markdown",
   "metadata": {},
   "source": [
    "Nous avons également un indicateur nous indiquant si l'observation appartient à l'ensemble d'apprentissage ou de test. Il s'agit de la colonne 'train' qui prend comme T (true) ou F (false)."
   ]
  },
  {
   "cell_type": "markdown",
   "metadata": {},
   "source": [
    "Sur les 97 observations, 67 sont indiquées comme appartenant à l'apprentissage, tandis que les 30 autres sont enregistrées pour être testées à la fin de l'apprentissage des algorithmes. Notez que nous n'aurons pas besoin de la colonne « Id » ou de la colonne « train », nous les supprimons donc. "
   ]
  },
  {
   "cell_type": "code",
   "execution_count": 5,
   "metadata": {},
   "outputs": [],
   "source": [
    "trainCancer = cancerData[cancerData.loc[:,'train']=='T']\n",
    "testCancer = cancerData[cancerData.loc[:,'train']=='F']\n",
    "x_train = trainCancer.drop(columns = ['id','lpsa','train'])\n",
    "y_train = trainCancer.loc[:,'lpsa']\n",
    "x_test = testCancer.drop(columns = ['id','lpsa','train'])\n",
    "y_test = testCancer.loc[:,'lpsa']\n"
   ]
  },
  {
   "cell_type": "code",
   "execution_count": 6,
   "metadata": {},
   "outputs": [],
   "source": [
    "# Transofomation de Y en vecteur colonne\n",
    "y_train=np.array(y_train)\n",
    "y_train=y_train.reshape(-1,1)\n",
    "y_test=np.array(y_test)\n",
    "y_test=y_test.reshape(-1,1)"
   ]
  },
  {
   "cell_type": "markdown",
   "metadata": {},
   "source": [
    "#### Standardisation des données"
   ]
  },
  {
   "cell_type": "markdown",
   "metadata": {},
   "source": [
    "Nous allons maintenant standardisé (centrées-réduites) les données :"
   ]
  },
  {
   "cell_type": "code",
   "execution_count": 7,
   "metadata": {},
   "outputs": [],
   "source": [
    "x_train = np.array(x_train)\n",
    "x_test = np.array(x_test)\n",
    "x_train_scaled = GradientDescent(alpha = 0.01, nombre_iterations = 2000).StandardScaler(x_train)\n",
    "x_test_scaled = GradientDescent(alpha = 0.01, nombre_iterations = 2000).StandardScaler(x_test)"
   ]
  },
  {
   "cell_type": "markdown",
   "metadata": {},
   "source": [
    "Chacune des N observations est représentée sur une ligne. Nous ajoutons également un 1 supplémentaire à chaque observation pour tenir compte du terme \"intercept\" ou de \"biais\"."
   ]
  },
  {
   "cell_type": "code",
   "execution_count": 8,
   "metadata": {},
   "outputs": [],
   "source": [
    "#Nous avons besoin d'une colonne de uns à ajouter comme terme de biais\n",
    "addBias=np.ones([x_train_scaled.shape[0], 1])\n",
    "x_train_scaled=np.append(addBias, x_train_scaled, axis=1)\n",
    "\n",
    "addBias=np.ones([x_test_scaled.shape[0], 1])\n",
    "x_test_scaled=np.append(addBias, x_test_scaled, axis=1)"
   ]
  },
  {
   "cell_type": "code",
   "execution_count": 6,
   "metadata": {},
   "outputs": [],
   "source": []
  },
  {
   "cell_type": "markdown",
   "metadata": {},
   "source": [
    "### Régression linéaire sans régularisation"
   ]
  },
  {
   "cell_type": "markdown",
   "metadata": {},
   "source": [
    "##### Les poids optimaux dans le cas de la régression linéaire (sans régularisation)"
   ]
  },
  {
   "cell_type": "code",
   "execution_count": 33,
   "metadata": {},
   "outputs": [
    {
     "data": {
      "text/plain": [
       "array([[ 2.45234508],\n",
       "       [ 0.70488971],\n",
       "       [ 0.29157046],\n",
       "       [-0.1416187 ],\n",
       "       [ 0.21062823],\n",
       "       [ 0.30720486],\n",
       "       [-0.27655818],\n",
       "       [-0.01199877],\n",
       "       [ 0.26265598]])"
      ]
     },
     "execution_count": 33,
     "metadata": {},
     "output_type": "execute_result"
    }
   ],
   "source": [
    "# les poids optimaux dans le cas de la régression linéaire (sans régularisation)\n",
    "instance1 = GradientDescent(alpha = 0.01, nombre_iterations = 2000)\n",
    "Wlinear = instance1.GradDescClassic(x_train_scaled, y_train)\n",
    "Wlinear"
   ]
  },
  {
   "cell_type": "markdown",
   "metadata": {},
   "source": [
    "##### Graph de convergence de la fonction cout"
   ]
  },
  {
   "cell_type": "code",
   "execution_count": 34,
   "metadata": {},
   "outputs": [
    {
     "data": {
      "image/png": "[encoded data removed]",
      "text/plain": [
       "<Figure size 432x288 with 1 Axes>"
      ]
     },
     "metadata": {
      "needs_background": "light"
     },
     "output_type": "display_data"
    }
   ],
   "source": [
    "# Graph de convergence de la fonction cout\n",
    "instance1.graph_convergence_cost_function()"
   ]
  },
  {
   "cell_type": "markdown",
   "metadata": {},
   "source": [
    "Le coût diminue assez rapidement au fur et à mesure que nous continuons à avoir des poids de mieux en mieux."
   ]
  },
  {
   "cell_type": "markdown",
   "metadata": {},
   "source": [
    "##### Coefficient de détermination"
   ]
  },
  {
   "cell_type": "code",
   "execution_count": 35,
   "metadata": {},
   "outputs": [
    {
     "data": {
      "text/plain": [
       "0.49111479100535815"
      ]
     },
     "execution_count": 35,
     "metadata": {},
     "output_type": "execute_result"
    }
   ],
   "source": [
    "#coefficient de détermination\n",
    "ypred = instance1.getPred(x_test_scaled, Wlinear)\n",
    "instance1.R2(y_test, ypred)"
   ]
  },
  {
   "cell_type": "markdown",
   "metadata": {},
   "source": [
    "Dans le cas du modèle sans régularisation nous obtenons un coefficient de détermination égale à 0,491..."
   ]
  },
  {
   "cell_type": "markdown",
   "metadata": {},
   "source": [
    "##### MSE: mean square error"
   ]
  },
  {
   "cell_type": "code",
   "execution_count": 36,
   "metadata": {},
   "outputs": [
    {
     "data": {
      "text/plain": [
       "0.5341479425742854"
      ]
     },
     "execution_count": 36,
     "metadata": {},
     "output_type": "execute_result"
    }
   ],
   "source": [
    "# MSE: mean square error\n",
    "instance1.MSE(x_test_scaled, y_test, Wlinear)"
   ]
  },
  {
   "cell_type": "markdown",
   "metadata": {},
   "source": [
    " Dans le cas du modèle sans régularisation nous obtenons un MSE égal à 0,534... sur nos données de test."
   ]
  },
  {
   "cell_type": "code",
   "execution_count": null,
   "metadata": {},
   "outputs": [],
   "source": []
  },
  {
   "cell_type": "markdown",
   "metadata": {},
   "source": [
    "### Régression ridge "
   ]
  },
  {
   "cell_type": "markdown",
   "metadata": {},
   "source": [
    "#####  La pénalité optimale"
   ]
  },
  {
   "cell_type": "code",
   "execution_count": 37,
   "metadata": {},
   "outputs": [
    {
     "data": {
      "text/plain": [
       "8.55"
      ]
     },
     "execution_count": 37,
     "metadata": {},
     "output_type": "execute_result"
    }
   ],
   "source": [
    "# la pénalité optimale \n",
    "instance2 = GradientDescent(alpha = 0.01, nombre_iterations = 2000)\n",
    "ridgeLambda = instance2.getRidgeLambda(x_train_scaled, y_train)\n",
    "ridgeLambda"
   ]
  },
  {
   "cell_type": "markdown",
   "metadata": {},
   "source": [
    "##### Les poids optimaux dans le cas de la régression ridge"
   ]
  },
  {
   "cell_type": "code",
   "execution_count": 38,
   "metadata": {},
   "outputs": [
    {
     "data": {
      "text/plain": [
       "array([[ 2.45234508],\n",
       "       [ 0.55568291],\n",
       "       [ 0.2780648 ],\n",
       "       [-0.09244203],\n",
       "       [ 0.19330365],\n",
       "       [ 0.26989016],\n",
       "       [-0.10633529],\n",
       "       [ 0.02320269],\n",
       "       [ 0.17959913]])"
      ]
     },
     "execution_count": 38,
     "metadata": {},
     "output_type": "execute_result"
    }
   ],
   "source": [
    "# Les poids optimaux dans le cas de la régression ridge\n",
    "Wridge = instance2.GradDescRidge(x_train_scaled, y_train, lmb = ridgeLambda)\n",
    "Wridge"
   ]
  },
  {
   "cell_type": "markdown",
   "metadata": {},
   "source": [
    "##### Coefficient de détermination"
   ]
  },
  {
   "cell_type": "code",
   "execution_count": 39,
   "metadata": {},
   "outputs": [
    {
     "data": {
      "text/plain": [
       "0.5198237892906872"
      ]
     },
     "execution_count": 39,
     "metadata": {},
     "output_type": "execute_result"
    }
   ],
   "source": [
    "#coefficient de détermination\n",
    "ypred = instance2.getPred(x_test_scaled, Wridge)\n",
    "instance2.R2(y_test, ypred)"
   ]
  },
  {
   "cell_type": "markdown",
   "metadata": {},
   "source": [
    "Le coefficient de détermination s'est améliorée par rapport au modèle sans régularisation "
   ]
  },
  {
   "cell_type": "markdown",
   "metadata": {},
   "source": [
    "##### MSE: mean square error"
   ]
  },
  {
   "cell_type": "code",
   "execution_count": 40,
   "metadata": {},
   "outputs": [
    {
     "data": {
      "text/plain": [
       "0.5040137352983992"
      ]
     },
     "execution_count": 40,
     "metadata": {},
     "output_type": "execute_result"
    }
   ],
   "source": [
    "# MSE: mean square error\n",
    "RidgeMSE = instance2.MSE(x_test_scaled, y_test, Wridge)\n",
    "RidgeMSE"
   ]
  },
  {
   "cell_type": "markdown",
   "metadata": {},
   "source": [
    "Idem pour le MSE"
   ]
  },
  {
   "cell_type": "markdown",
   "metadata": {},
   "source": [
    "##### Graph de poids des features"
   ]
  },
  {
   "cell_type": "code",
   "execution_count": 41,
   "metadata": {},
   "outputs": [
    {
     "ename": "TypeError",
     "evalue": "only integer scalar arrays can be converted to a scalar index",
     "output_type": "error",
     "traceback": [
      "\u001b[1;31m---------------------------------------------------------------------------\u001b[0m",
      "\u001b[1;31mTypeError\u001b[0m                                 Traceback (most recent call last)",
      "\u001b[1;32m<ipython-input-41-d2fc02799579>\u001b[0m in \u001b[0;36m<module>\u001b[1;34m\u001b[0m\n\u001b[0;32m      1\u001b[0m \u001b[1;31m# Graph de poids des features\u001b[0m\u001b[1;33m\u001b[0m\u001b[1;33m\u001b[0m\u001b[1;33m\u001b[0m\u001b[0m\n\u001b[1;32m----> 2\u001b[1;33m \u001b[0minstance2\u001b[0m\u001b[1;33m.\u001b[0m\u001b[0mgraph_de_poids_features\u001b[0m\u001b[1;33m(\u001b[0m\u001b[1;33m)\u001b[0m\u001b[1;33m\u001b[0m\u001b[1;33m\u001b[0m\u001b[0m\n\u001b[0m",
      "\u001b[1;32m<ipython-input-27-97b049fc60f8>\u001b[0m in \u001b[0;36mgraph_de_poids_features\u001b[1;34m(self)\u001b[0m\n\u001b[0;32m    331\u001b[0m         \u001b[0mplt\u001b[0m\u001b[1;33m.\u001b[0m\u001b[0mtitle\u001b[0m\u001b[1;33m(\u001b[0m\u001b[1;34m'Graphe de poids des features'\u001b[0m\u001b[1;33m)\u001b[0m\u001b[1;33m\u001b[0m\u001b[1;33m\u001b[0m\u001b[0m\n\u001b[0;32m    332\u001b[0m         \u001b[0mgraph\u001b[0m \u001b[1;33m=\u001b[0m \u001b[0mplt\u001b[0m\u001b[1;33m.\u001b[0m\u001b[0mplot\u001b[0m\u001b[1;33m(\u001b[0m\u001b[0mself\u001b[0m\u001b[1;33m.\u001b[0m\u001b[0mlambda_List\u001b[0m\u001b[1;33m,\u001b[0m \u001b[0mself\u001b[0m\u001b[1;33m.\u001b[0m\u001b[0mW_List\u001b[0m\u001b[1;33m)\u001b[0m\u001b[1;33m\u001b[0m\u001b[1;33m\u001b[0m\u001b[0m\n\u001b[1;32m--> 333\u001b[1;33m         \u001b[0mplt\u001b[0m\u001b[1;33m.\u001b[0m\u001b[0mlegend\u001b[0m\u001b[1;33m(\u001b[0m\u001b[0miter\u001b[0m\u001b[1;33m(\u001b[0m\u001b[0mgraph\u001b[0m\u001b[1;33m)\u001b[0m\u001b[1;33m,\u001b[0m \u001b[1;33m[\u001b[0m\u001b[0mi\u001b[0m \u001b[1;32mfor\u001b[0m \u001b[0mi\u001b[0m \u001b[1;32min\u001b[0m \u001b[0mrange\u001b[0m\u001b[1;33m(\u001b[0m\u001b[1;36m1\u001b[0m\u001b[1;33m,\u001b[0m\u001b[0mself\u001b[0m\u001b[1;33m.\u001b[0m\u001b[0mW\u001b[0m\u001b[1;33m)\u001b[0m\u001b[1;33m]\u001b[0m\u001b[1;33m)\u001b[0m\u001b[1;33m\u001b[0m\u001b[1;33m\u001b[0m\u001b[0m\n\u001b[0m\u001b[0;32m    334\u001b[0m         \u001b[0mplt\u001b[0m\u001b[1;33m.\u001b[0m\u001b[0mshow\u001b[0m\u001b[1;33m(\u001b[0m\u001b[1;33m)\u001b[0m\u001b[1;33m\u001b[0m\u001b[1;33m\u001b[0m\u001b[0m\n\u001b[0;32m    335\u001b[0m \u001b[1;33m\u001b[0m\u001b[0m\n",
      "\u001b[1;31mTypeError\u001b[0m: only integer scalar arrays can be converted to a scalar index"
     ]
    },
    {
     "data": {
      "image/png": "[encoded data removed]",
      "text/plain": [
       "<Figure size 432x288 with 1 Axes>"
      ]
     },
     "metadata": {
      "needs_background": "light"
     },
     "output_type": "display_data"
    }
   ],
   "source": [
    "# Graph de poids des features\n",
    "instance2.graph_de_poids_features()"
   ]
  },
  {
   "cell_type": "markdown",
   "metadata": {},
   "source": [
    "Nous constatons que lorsque la pénalité augmente certains poids convergent mais lentement."
   ]
  },
  {
   "cell_type": "markdown",
   "metadata": {},
   "source": [
    "Remarque : Nous aimerions référencer la courbe correspondante à chaque feature mais on a eu un bug.\n"
   ]
  },
  {
   "cell_type": "markdown",
   "metadata": {},
   "source": [
    "### Régression lasso"
   ]
  },
  {
   "cell_type": "markdown",
   "metadata": {},
   "source": [
    "##### La pénalité optimale "
   ]
  },
  {
   "cell_type": "code",
   "execution_count": 42,
   "metadata": {},
   "outputs": [
    {
     "data": {
      "text/plain": [
       "11.100000000000001"
      ]
     },
     "execution_count": 42,
     "metadata": {},
     "output_type": "execute_result"
    }
   ],
   "source": [
    "# la pénalité optimale \n",
    "instance3 = GradientDescent(alpha = 0.01, nombre_iterations = 5000)\n",
    "LassoLambda = instance3.getLassoLambda(x_train_scaled, y_train)\n",
    "LassoLambda"
   ]
  },
  {
   "cell_type": "markdown",
   "metadata": {},
   "source": [
    "##### Les poids optimaux dans le cas de la régression lasso"
   ]
  },
  {
   "cell_type": "code",
   "execution_count": 43,
   "metadata": {},
   "outputs": [
    {
     "data": {
      "text/plain": [
       "array([[ 2.45234509e+00],\n",
       "       [ 5.72514364e-01],\n",
       "       [ 2.34729237e-01],\n",
       "       [-8.20603787e-04],\n",
       "       [ 1.19822129e-01],\n",
       "       [ 1.81970686e-01],\n",
       "       [ 4.37925378e-04],\n",
       "       [ 1.16239041e-05],\n",
       "       [ 7.45849489e-02]])"
      ]
     },
     "execution_count": 43,
     "metadata": {},
     "output_type": "execute_result"
    }
   ],
   "source": [
    "# Les poids optimaux dans le cas de la régression lasso\n",
    "Wlasso = instance3.GradDescLasso(x_train_scaled, y_train, lmb=LassoLambda)\n",
    "Wlasso"
   ]
  },
  {
   "cell_type": "markdown",
   "metadata": {},
   "source": [
    "##### Coefficient de détermination"
   ]
  },
  {
   "cell_type": "code",
   "execution_count": 44,
   "metadata": {},
   "outputs": [
    {
     "data": {
      "text/plain": [
       "0.5661174783867766"
      ]
     },
     "execution_count": 44,
     "metadata": {},
     "output_type": "execute_result"
    }
   ],
   "source": [
    "#coefficient de détermination\n",
    "ypred = instance3.getPred(x_test_scaled, Wlasso)\n",
    "instance3.R2(y_test, ypred)"
   ]
  },
  {
   "cell_type": "markdown",
   "metadata": {},
   "source": [
    "Avec la régression Lasso, nous avons obtenu un coefficient de détermination qui est meilleure comparée avec le modèle sans régularisation et avec le modèle avec régularisation ridge.  "
   ]
  },
  {
   "cell_type": "markdown",
   "metadata": {},
   "source": [
    "##### MSE: mean square error"
   ]
  },
  {
   "cell_type": "code",
   "execution_count": 45,
   "metadata": {},
   "outputs": [
    {
     "data": {
      "text/plain": [
       "0.45542187539014606"
      ]
     },
     "execution_count": 45,
     "metadata": {},
     "output_type": "execute_result"
    }
   ],
   "source": [
    "# MSE: mean square error\n",
    "LassoMSE = instance3.MSE(x_test_scaled, y_test, Wlasso)\n",
    "LassoMSE"
   ]
  },
  {
   "cell_type": "markdown",
   "metadata": {},
   "source": [
    "Idem pour le MSE "
   ]
  },
  {
   "cell_type": "markdown",
   "metadata": {},
   "source": [
    "##### Graph de poids des features"
   ]
  },
  {
   "cell_type": "code",
   "execution_count": 46,
   "metadata": {},
   "outputs": [
    {
     "ename": "TypeError",
     "evalue": "only integer scalar arrays can be converted to a scalar index",
     "output_type": "error",
     "traceback": [
      "\u001b[1;31m---------------------------------------------------------------------------\u001b[0m",
      "\u001b[1;31mTypeError\u001b[0m                                 Traceback (most recent call last)",
      "\u001b[1;32m<ipython-input-46-08d4c7157ab0>\u001b[0m in \u001b[0;36m<module>\u001b[1;34m\u001b[0m\n\u001b[0;32m      1\u001b[0m \u001b[1;31m#Graph de poids des features\u001b[0m\u001b[1;33m\u001b[0m\u001b[1;33m\u001b[0m\u001b[1;33m\u001b[0m\u001b[0m\n\u001b[1;32m----> 2\u001b[1;33m \u001b[0minstance3\u001b[0m\u001b[1;33m.\u001b[0m\u001b[0mgraph_de_poids_features\u001b[0m\u001b[1;33m(\u001b[0m\u001b[1;33m)\u001b[0m\u001b[1;33m\u001b[0m\u001b[1;33m\u001b[0m\u001b[0m\n\u001b[0m",
      "\u001b[1;32m<ipython-input-27-97b049fc60f8>\u001b[0m in \u001b[0;36mgraph_de_poids_features\u001b[1;34m(self)\u001b[0m\n\u001b[0;32m    331\u001b[0m         \u001b[0mplt\u001b[0m\u001b[1;33m.\u001b[0m\u001b[0mtitle\u001b[0m\u001b[1;33m(\u001b[0m\u001b[1;34m'Graphe de poids des features'\u001b[0m\u001b[1;33m)\u001b[0m\u001b[1;33m\u001b[0m\u001b[1;33m\u001b[0m\u001b[0m\n\u001b[0;32m    332\u001b[0m         \u001b[0mgraph\u001b[0m \u001b[1;33m=\u001b[0m \u001b[0mplt\u001b[0m\u001b[1;33m.\u001b[0m\u001b[0mplot\u001b[0m\u001b[1;33m(\u001b[0m\u001b[0mself\u001b[0m\u001b[1;33m.\u001b[0m\u001b[0mlambda_List\u001b[0m\u001b[1;33m,\u001b[0m \u001b[0mself\u001b[0m\u001b[1;33m.\u001b[0m\u001b[0mW_List\u001b[0m\u001b[1;33m)\u001b[0m\u001b[1;33m\u001b[0m\u001b[1;33m\u001b[0m\u001b[0m\n\u001b[1;32m--> 333\u001b[1;33m         \u001b[0mplt\u001b[0m\u001b[1;33m.\u001b[0m\u001b[0mlegend\u001b[0m\u001b[1;33m(\u001b[0m\u001b[0miter\u001b[0m\u001b[1;33m(\u001b[0m\u001b[0mgraph\u001b[0m\u001b[1;33m)\u001b[0m\u001b[1;33m,\u001b[0m \u001b[1;33m[\u001b[0m\u001b[0mi\u001b[0m \u001b[1;32mfor\u001b[0m \u001b[0mi\u001b[0m \u001b[1;32min\u001b[0m \u001b[0mrange\u001b[0m\u001b[1;33m(\u001b[0m\u001b[1;36m1\u001b[0m\u001b[1;33m,\u001b[0m\u001b[0mself\u001b[0m\u001b[1;33m.\u001b[0m\u001b[0mW\u001b[0m\u001b[1;33m)\u001b[0m\u001b[1;33m]\u001b[0m\u001b[1;33m)\u001b[0m\u001b[1;33m\u001b[0m\u001b[1;33m\u001b[0m\u001b[0m\n\u001b[0m\u001b[0;32m    334\u001b[0m         \u001b[0mplt\u001b[0m\u001b[1;33m.\u001b[0m\u001b[0mshow\u001b[0m\u001b[1;33m(\u001b[0m\u001b[1;33m)\u001b[0m\u001b[1;33m\u001b[0m\u001b[1;33m\u001b[0m\u001b[0m\n\u001b[0;32m    335\u001b[0m \u001b[1;33m\u001b[0m\u001b[0m\n",
      "\u001b[1;31mTypeError\u001b[0m: only integer scalar arrays can be converted to a scalar index"
     ]
    },
    {
     "data": {
      "image/png": "[encoded data removed]",
      "text/plain": [
       "<Figure size 432x288 with 1 Axes>"
      ]
     },
     "metadata": {
      "needs_background": "light"
     },
     "output_type": "display_data"
    }
   ],
   "source": [
    "#Graph de poids des features\n",
    "instance3.graph_de_poids_features()"
   ]
  },
  {
   "cell_type": "markdown",
   "metadata": {},
   "source": [
    "\n",
    "- Lorsque lambda est suffisament grand les poids deviennent nuls sauf le poids d'un seul feature\n",
    "- Le lasso effectue une sélection de variables "
   ]
  },
  {
   "cell_type": "code",
   "execution_count": 111,
   "metadata": {},
   "outputs": [],
   "source": []
  },
  {
   "cell_type": "markdown",
   "metadata": {},
   "source": [
    "### Régression elastic"
   ]
  },
  {
   "cell_type": "markdown",
   "metadata": {},
   "source": [
    "#####  les pénalités optimaux lmb1 et lmb2 respectivement"
   ]
  },
  {
   "cell_type": "code",
   "execution_count": 100,
   "metadata": {},
   "outputs": [
    {
     "data": {
      "text/plain": [
       "(0.1, 9.0)"
      ]
     },
     "execution_count": 100,
     "metadata": {},
     "output_type": "execute_result"
    }
   ],
   "source": [
    "# les pénalités optimaux lmb1 et lmb2 respectivement\n",
    "instance4 = GradientDescent(alpha = 0.01, nombre_iterations = 3000)\n",
    "ElasticLambdas = instance4.getLambdasElastic(x_train_scaled, y_train)\n",
    "ElasticLambdas"
   ]
  },
  {
   "cell_type": "markdown",
   "metadata": {},
   "source": [
    "##### Les poids optimaux dans le cas de Elastic"
   ]
  },
  {
   "cell_type": "code",
   "execution_count": 172,
   "metadata": {},
   "outputs": [
    {
     "data": {
      "text/plain": [
       "array([[ 2.45234509],\n",
       "       [ 0.54878009],\n",
       "       [ 0.27668205],\n",
       "       [-0.08898263],\n",
       "       [ 0.19177711],\n",
       "       [ 0.26729261],\n",
       "       [-0.09749944],\n",
       "       [ 0.02392824],\n",
       "       [ 0.17532904]])"
      ]
     },
     "execution_count": 172,
     "metadata": {},
     "output_type": "execute_result"
    }
   ],
   "source": [
    "# Les poids optimaux dans le cas de Elastic\n",
    "Welastic = instance4.GradDescElastic(x_train_scaled, y_train, lmb1 = 0.1, lmb2 = 9)\n",
    "Welastic"
   ]
  },
  {
   "cell_type": "markdown",
   "metadata": {},
   "source": [
    "##### Coefficient de détermination"
   ]
  },
  {
   "cell_type": "code",
   "execution_count": 173,
   "metadata": {},
   "outputs": [
    {
     "data": {
      "text/plain": [
       "0.5210771412495077"
      ]
     },
     "execution_count": 173,
     "metadata": {},
     "output_type": "execute_result"
    }
   ],
   "source": [
    "#coefficient de détermination\n",
    "ypred = instance4.getPred(x_test_scaled, Welastic)\n",
    "instance4.R2(y_test, ypred)"
   ]
  },
  {
   "cell_type": "markdown",
   "metadata": {},
   "source": [
    "Le coefficient de détermination obtenue avec la régression Elastic vient en deuxième position en termes de performance après la régression Lasso."
   ]
  },
  {
   "cell_type": "markdown",
   "metadata": {},
   "source": [
    "#####  MSE: mean square error"
   ]
  },
  {
   "cell_type": "code",
   "execution_count": 174,
   "metadata": {},
   "outputs": [
    {
     "data": {
      "text/plain": [
       "0.5026981628307929"
      ]
     },
     "execution_count": 174,
     "metadata": {},
     "output_type": "execute_result"
    }
   ],
   "source": [
    "# MSE: mean square error\n",
    "ElasticMSE = instance4.MSE(x_test_scaled, y_test, Welastic)\n",
    "ElasticMSE"
   ]
  },
  {
   "cell_type": "markdown",
   "metadata": {},
   "source": [
    "Idem pour le MSE"
   ]
  }
 ],
 "metadata": {
  "kernelspec": {
   "display_name": "Python 3 (ipykernel)",
   "language": "python",
   "name": "python3"
  },
  "language_info": {
   "codemirror_mode": {
    "name": "ipython",
    "version": 3
   },
   "file_extension": ".py",
   "mimetype": "text/x-python",
   "name": "python",
   "nbconvert_exporter": "python",
   "pygments_lexer": "ipython3",
   "version": "3.9.12"
  }
 },
 "nbformat": 4,
 "nbformat_minor": 4
}
